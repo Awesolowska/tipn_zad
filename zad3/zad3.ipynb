{
 "cells": [
  {
   "cell_type": "markdown",
   "metadata": {},
   "source": [
    "# Moja pierwsza średnia na studiach\n",
    "\n",
    "Poniżej wymienię wszytkie moje przedmioty i napiszę moją *oczekiwaną* średnią.\n",
    "\n"
   ]
  },
  {
   "cell_type": "code",
   "execution_count": 8,
   "metadata": {},
   "outputs": [],
   "source": [
    "metodologia = 4.5\n",
    "ogolna = 4.0 \n",
    "technologie = 5.0\n",
    "przeglad = 4.5\n",
    "trening = 3.5\n",
    "komunikacja = 3.0\n",
    "bhp = 5.0\n",
    "logika = 4.5\n",
    "filozofia = 5.0\n",
    "statystyka = 3.0\n",
    "anatomia = 3.5\n",
    "mechanizmy = 4.0\n",
    "angielski = 4.5\n",
    "wf = 4.0\n",
    "\n",
    "\n"
   ]
  },
  {
   "cell_type": "code",
   "execution_count": 11,
   "metadata": {},
   "outputs": [],
   "source": [
    "suma = metodologia + ogolna + technologie + przeglad + trening + komunikacja + bhp + logika + filozofia + statystyka + anatomia + mechanizmy + angielski + wf"
   ]
  },
  {
   "cell_type": "code",
   "execution_count": 14,
   "metadata": {},
   "outputs": [
    {
     "data": {
      "text/plain": [
       "58.0"
      ]
     },
     "execution_count": 14,
     "metadata": {},
     "output_type": "execute_result"
    }
   ],
   "source": [
    "suma"
   ]
  },
  {
   "cell_type": "code",
   "execution_count": 15,
   "metadata": {},
   "outputs": [],
   "source": [
    "srednia = suma / 14"
   ]
  },
  {
   "cell_type": "code",
   "execution_count": 16,
   "metadata": {},
   "outputs": [
    {
     "data": {
      "text/plain": [
       "4.142857142857143"
      ]
     },
     "execution_count": 16,
     "metadata": {},
     "output_type": "execute_result"
    }
   ],
   "source": [
    "srednia"
   ]
  },
  {
   "cell_type": "code",
   "execution_count": 18,
   "metadata": {},
   "outputs": [
    {
     "name": "stdout",
     "output_type": "stream",
     "text": [
      "Moja średnia w pierwszym semestrze to4.142857142857143\n"
     ]
    }
   ],
   "source": [
    "print(\"Moja średnia w pierwszym semestrze to\" + str(srednia))"
   ]
  },
  {
   "cell_type": "code",
   "execution_count": null,
   "metadata": {},
   "outputs": [],
   "source": []
  }
 ],
 "metadata": {
  "kernelspec": {
   "display_name": "Python 3",
   "language": "python",
   "name": "python3"
  },
  "language_info": {
   "codemirror_mode": {
    "name": "ipython",
    "version": 3
   },
   "file_extension": ".py",
   "mimetype": "text/x-python",
   "name": "python",
   "nbconvert_exporter": "python",
   "pygments_lexer": "ipython3",
   "version": "3.7.0"
  }
 },
 "nbformat": 4,
 "nbformat_minor": 2
}
