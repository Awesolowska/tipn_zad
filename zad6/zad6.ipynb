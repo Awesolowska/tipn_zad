{
 "cells": [
  {
   "cell_type": "code",
   "execution_count": 9,
   "metadata": {},
   "outputs": [],
   "source": [
    "suma = []\n",
    "a = \"Czy lubisz mróz?\"\n",
    "b = \"Czy przeszkadzają Ci upały?\"\n",
    "c = \"Czy ubóstwiasz ciepłe herbaty w świetle kominka?\"\n",
    "d = \"Czy raduje Cię delikatnie pruszący z nieba śnieg?\"\n",
    "e = \"Czy sprawiają Ci przyjemność kuligi?\""
   ]
  },
  {
   "cell_type": "code",
   "execution_count": 10,
   "metadata": {},
   "outputs": [],
   "source": [
    "def zadaj_pytanie(a):\n",
    "        \n",
    "    print(a)\n",
    "    ab = input(\"1 - zupełnie się nie zgadzam; 5 - całkowicie się zgadzam:\")\n",
    "    ab = int(ab)\n",
    "    return ab"
   ]
  },
  {
   "cell_type": "code",
   "execution_count": 18,
   "metadata": {},
   "outputs": [
    {
     "name": "stdout",
     "output_type": "stream",
     "text": [
      "Czy lubisz mróz?\n"
     ]
    },
    {
     "name": "stdin",
     "output_type": "stream",
     "text": [
      "1 - zupełnie się nie zgadzam; 5 - całkowicie się zgadzam: 4\n"
     ]
    },
    {
     "name": "stdout",
     "output_type": "stream",
     "text": [
      "Czy przeszkadzają Ci upały?\n"
     ]
    },
    {
     "name": "stdin",
     "output_type": "stream",
     "text": [
      "1 - zupełnie się nie zgadzam; 5 - całkowicie się zgadzam: 4\n"
     ]
    },
    {
     "name": "stdout",
     "output_type": "stream",
     "text": [
      "Czy ubóstwiasz ciepłe herbaty w świetle kominka?\n"
     ]
    },
    {
     "name": "stdin",
     "output_type": "stream",
     "text": [
      "1 - zupełnie się nie zgadzam; 5 - całkowicie się zgadzam: 4\n"
     ]
    },
    {
     "name": "stdout",
     "output_type": "stream",
     "text": [
      "Czy raduje Cię delikatnie pruszący z nieba śnieg?\n"
     ]
    },
    {
     "name": "stdin",
     "output_type": "stream",
     "text": [
      "1 - zupełnie się nie zgadzam; 5 - całkowicie się zgadzam: 4\n"
     ]
    },
    {
     "name": "stdout",
     "output_type": "stream",
     "text": [
      "Czy sprawiają Ci przyjemność kuligi?\n"
     ]
    },
    {
     "name": "stdin",
     "output_type": "stream",
     "text": [
      "1 - zupełnie się nie zgadzam; 5 - całkowicie się zgadzam: 4\n"
     ]
    },
    {
     "name": "stdout",
     "output_type": "stream",
     "text": [
      "Twój wynik to 20 . Gdy widzisz pierwsze płatki śniegu popadasz w euforię! Może i nie należysz do osób niebezpiecznych jednak lepej przy Tobie nie obrażać białego puchu!\n"
     ]
    }
   ],
   "source": [
    "punkt = zadaj_pytanie(a)\n",
    "suma.append(punkt)\n",
    "punkt = zadaj_pytanie(b)\n",
    "suma.append(punkt)\n",
    "punkt = zadaj_pytanie(c)\n",
    "suma.append(punkt)\n",
    "punkt = zadaj_pytanie(d)\n",
    "suma.append(punkt)\n",
    "punkt = zadaj_pytanie(e)\n",
    "suma.append(punkt)\n",
    "wynik = sum(suma)\n",
    "wynik = int(wynik)\n",
    "if wynik == 5:\n",
    "    print(\"Twój wynik to\", wynik, \".\", \"Zima to coś zupełnie nie dla Ciebie! Na ten czas proponuję przeprowadzkę do cieplych krajów, gdyż długo tu nie pociągniesz!\")\n",
    "elif wynik > 5 and wynik < 10:\n",
    "    print(\"Twój wynik to\", wynik, \".\", \"Nie należysz do zimowych świrków. Raczej unikasz wychodzenia z domu o tej porze roku. W Twoim przypadku to słuszna decyzja.\")\n",
    "elif wynik >= 10 and wynik < 15:\n",
    "    print(\"Twój wynik to\", wynik, \".\", \"Nie masz wiekszego problemu do zimy, lecz nie należy do Twojego grona sympatii. Potrafisz jednak dostrzegać piękno tego okresu.\")\n",
    "elif wynik >= 15 and wynik < 20:\n",
    "    print(\"Twój wynik to\", wynik, \".\", \"Śnieżna aura zdecydowanie jest w Twoim guście, jednak potrafisz się pochamować i radować tą porą bez przesadzonego entuzjazmu.\")\n",
    "elif wynik >=20 and wynik < 25:\n",
    "    print(\"Twój wynik to\", wynik, \".\", \"Gdy widzisz pierwsze płatki śniegu popadasz w euforię! Może i nie należysz do osób niebezpiecznych jednak lepej przy Tobie nie obrażać białego puchu!\")\n",
    "elif wynik == 25:\n",
    "    print(\"Twój wynik to\", wynik, \".\", \"Kochasz zimę jak nic innego na tej planecie! Podczas Twojego śnieżnego szału lepej na Ciebie uważać, potrafisz stanowić niebezpieczeństwo dla otoczenia!\")\n",
    "    \n",
    "suma = []"
   ]
  },
  {
   "cell_type": "code",
   "execution_count": 8,
   "metadata": {},
   "outputs": [
    {
     "data": {
      "text/plain": [
       "[]"
      ]
     },
     "execution_count": 8,
     "metadata": {},
     "output_type": "execute_result"
    }
   ],
   "source": []
  },
  {
   "cell_type": "code",
   "execution_count": null,
   "metadata": {},
   "outputs": [],
   "source": []
  }
 ],
 "metadata": {
  "kernelspec": {
   "display_name": "Python 3",
   "language": "python",
   "name": "python3"
  },
  "language_info": {
   "codemirror_mode": {
    "name": "ipython",
    "version": 3
   },
   "file_extension": ".py",
   "mimetype": "text/x-python",
   "name": "python",
   "nbconvert_exporter": "python",
   "pygments_lexer": "ipython3",
   "version": "3.7.0"
  }
 },
 "nbformat": 4,
 "nbformat_minor": 2
}
